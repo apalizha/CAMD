{
 "cells": [
  {
   "cell_type": "markdown",
   "metadata": {},
   "source": [
    "##### Load Packages"
   ]
  },
  {
   "cell_type": "code",
   "execution_count": null,
   "metadata": {},
   "outputs": [],
   "source": [
    "%matplotlib inline\n",
    "import os\n",
    "import boto3\n",
    "import numpy as np\n",
    "import pandas as pd\n",
    "import matplotlib.pyplot as plt\n",
    "import time\n",
    "import os\n",
    "from tqdm import tqdm\n",
    "\n",
    "from camd.agent.base import HypothesisAgent\n",
    "from camd.analysis import AnalyzerBase\n",
    "from camd.experiment.base import ATFSampler\n",
    "from camd.campaigns.base import Campaign"
   ]
  },
  {
   "cell_type": "markdown",
   "metadata": {},
   "source": [
    "##### Load data and process compostions into more readable format"
   ]
  },
  {
   "cell_type": "code",
   "execution_count": null,
   "metadata": {},
   "outputs": [],
   "source": [
    "path = 'CAMD/scratches/JCAP data/'\n",
    "jcap_pickle = 'jcap_optical_encoding.pickle'\n",
    "\n",
    "jcap_df = pd.read_pickle(jcap_pickle)\n",
    "print('This dataset has {} samples, {} features'.format(jcap_df.shape[0], jcap_df.shape[1]))"
   ]
  },
  {
   "cell_type": "code",
   "execution_count": null,
   "metadata": {},
   "outputs": [],
   "source": [
    "# process the compositions so they are not sparsed representation\n",
    "# There are two columns about composition. One is the full composition in dictionary format (e.g. {'Bi': 0.95, 'Mn': 0.05}).\n",
    "# The other is the element combination in tuples, sorted alphabetically. \n",
    "compositions = []\n",
    "for index, row in jcap_df.iterrows():\n",
    "    composition = {elem: round(ratio,3) for elem, ratio in zip(row['Fe':'Rb'].index, row['Fe':'Rb']) if ratio != 0} \n",
    "    compositions.append(composition)\n",
    "    \n",
    "processed_jcap_df = jcap_df[['bandgap']].copy()\n",
    "processed_jcap_df['full_composition'] = compositions\n",
    "\n",
    "elem_combo_sorted = [tuple(sorted(comp.keys())) for comp in compositions]\n",
    "processed_jcap_df['elem_combo'] = elem_combo_sorted\n",
    "\n",
    "# get the binary and ternary compound\n",
    "selected_jcap_df = processed_jcap_df[(processed_jcap_df.elem_combo.map(len)==2)|(processed_jcap_df.elem_combo.map(len)==3)]"
   ]
  },
  {
   "cell_type": "code",
   "execution_count": null,
   "metadata": {},
   "outputs": [],
   "source": [
    "selected_jcap_df.head(3)"
   ]
  },
  {
   "cell_type": "code",
   "execution_count": null,
   "metadata": {},
   "outputs": [],
   "source": [
    "selected_jcap_df.shape"
   ]
  },
  {
   "cell_type": "markdown",
   "metadata": {},
   "source": [
    "##### Pull MP oxide data"
   ]
  },
  {
   "cell_type": "code",
   "execution_count": null,
   "metadata": {},
   "outputs": [],
   "source": [
    "# Get all the combinations and a list of their compositions\n",
    "from collections import defaultdict\n",
    "\n",
    "combinations = defaultdict(list)\n",
    "for index, row in selected_jcap_df.iterrows():\n",
    "    combinations[row['elem_combo']].append(row['full_composition'])"
   ]
  },
  {
   "cell_type": "code",
   "execution_count": null,
   "metadata": {},
   "outputs": [],
   "source": [
    "from pymatgen import MPRester, Composition\n",
    "from pymatgen.analysis.phase_diagram import GrandPotentialPhaseDiagram, PDPlotter\n",
    "\n",
    "MP_mu_O = -4.29\n",
    "mpr = MPRester(\"68rWEneaZFyIaKh15uKr\")\n",
    "\n",
    "stable_structure_by_compositions = {}\n",
    "for elem_combo, full_compositions in tqdm(combinations.items()):\n",
    "    entries = mpr.get_entries_in_chemsys(list(elem_combo) + ['O'])\n",
    "    gppd = GrandPotentialPhaseDiagram(entries, {\"O\": MP_mu_O})\n",
    "#     pdplotter = PDPlotter(gppd)\n",
    "    for composition in full_compositions:\n",
    "        entries = gppd.all_entries\n",
    "        ehulls = [gppd.get_form_energy_per_atom(entry) for entry in entries]\n",
    "        stable_structure_by_compositions[tuple(composition.items())] = [entry.original_comp for entry, e_hull in zip(entries, ehulls) if e_hull<0.2]\n",
    "\n",
    "#         decomp = gppd.get_decomposition(Composition(composition))\n",
    "#         stable_structure_by_compositions[composition] = [entry.original_comp for entry, frac in decomp.items()] \n",
    "#  plt = pdplotter.get_plot()"
   ]
  },
  {
   "cell_type": "code",
   "execution_count": null,
   "metadata": {},
   "outputs": [],
   "source": [
    "# import pickle\n",
    "# pickle.dump(stable_structure_by_compositions, open('stable_structure_by_compositions.pkl', 'wb'))"
   ]
  },
  {
   "cell_type": "markdown",
   "metadata": {},
   "source": [
    "##### CAMD submit"
   ]
  },
  {
   "cell_type": "code",
   "execution_count": null,
   "metadata": {},
   "outputs": [],
   "source": [
    "# Helper script taken from \n",
    "# https://github.awsinternal.tri.global/materials/camd_api/blob/master/scripts/submit_LaFeAs_class.py\n",
    "\n",
    "import argparse\n",
    "from camd_apigw.s3_utils import submit_chemsys, CAMD_SYNC_S3_BUCKET, \\\n",
    "    CAMD_DEFAULT_CAMPAIGN\n",
    "import itertools\n",
    "from tqdm import tqdm\n",
    "\n",
    "\n",
    "argparser = argparse.ArgumentParser()\n",
    "argparser.add_argument(\"--campaign\", \"-r\", default=CAMD_DEFAULT_CAMPAIGN,\n",
    "                       help=\"Type of run, e. g. proto-dft or oqmd-atf\")\n",
    "argparser.add_argument(\"--bucket\", \"-b\", default=CAMD_SYNC_S3_BUCKET,\n",
    "                       help=\"Bucket for submission, e.g. camd-runs or camd-test\")\n",
    "\n",
    "def get_possible_chemsyses(combinations):\n",
    "    \"\"\"Function to get all of the oxide to test\"\"\"\n",
    "    return ['-'.join(combination) +'-O' for combination in combinations]"
   ]
  },
  {
   "cell_type": "code",
   "execution_count": null,
   "metadata": {},
   "outputs": [],
   "source": [
    "# all the unique composition combination from JCAP data (sorted alphabetically and not duplicated)\n",
    "elem_combo_set = set(list(selected_jcap_df['elem_combo'])) \n",
    "combinations_of_interest = sorted(list(elem_combo_set), reverse=True) \n",
    "sorted_interest = sorted(combinations_of_interest, key=len, reverse=True)\n",
    "\n",
    "# CAMD is last in, first out, so we will sort the list above by length\n",
    "submission_candidate = sorted_interest[-10:]\n",
    "\n",
    "args = argparser.parse_args()\n",
    "for chemsys in tqdm(get_possible_chemsyses(sorted_interest)):\n",
    "    submit_chemsys(chemsys, bucket_name=args.bucket,\n",
    "                   campaign=args.campaign)"
   ]
  },
  {
   "cell_type": "code",
   "execution_count": 15,
   "metadata": {},
   "outputs": [
    {
     "data": {
      "text/plain": [
       "'Bi-V-O'"
      ]
     },
     "execution_count": 15,
     "metadata": {},
     "output_type": "execute_result"
    }
   ],
   "source": [
    "with open('submitted_combination.log') as f:\n",
    "    data = f.readlines()\n",
    "    \n",
    "data[0].split(' : ')[1].strip('\\n')"
   ]
  },
  {
   "cell_type": "code",
   "execution_count": null,
   "metadata": {},
   "outputs": [],
   "source": [
    "from camd_apigw import s3_utils\n",
    "\n",
    "for chemsys in tqdm(submitted):\n",
    "    print(s3_utils.get_run_status(chemsys))"
   ]
  }
 ],
 "metadata": {
  "kernelspec": {
   "display_name": "Python 3",
   "language": "python",
   "name": "python3"
  },
  "language_info": {
   "codemirror_mode": {
    "name": "ipython",
    "version": 3
   },
   "file_extension": ".py",
   "mimetype": "text/x-python",
   "name": "python",
   "nbconvert_exporter": "python",
   "pygments_lexer": "ipython3",
   "version": "3.7.0"
  }
 },
 "nbformat": 4,
 "nbformat_minor": 4
}
