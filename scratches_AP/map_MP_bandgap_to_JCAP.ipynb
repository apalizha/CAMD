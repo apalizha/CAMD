{
 "cells": [
  {
   "cell_type": "markdown",
   "metadata": {},
   "source": [
    "##### Load Packages"
   ]
  },
  {
   "cell_type": "code",
   "execution_count": 1,
   "metadata": {},
   "outputs": [],
   "source": [
    "%matplotlib inline\n",
    "import os\n",
    "import boto3\n",
    "import numpy as np\n",
    "import pandas as pd\n",
    "import matplotlib.pyplot as plt\n",
    "import time\n",
    "import os\n",
    "from tqdm import tqdm\n",
    "\n",
    "from camd.agent.base import HypothesisAgent\n",
    "from camd.analysis import AnalyzerBase\n",
    "from camd.experiment.base import ATFSampler\n",
    "from camd.campaigns.base import Campaign"
   ]
  },
  {
   "cell_type": "markdown",
   "metadata": {},
   "source": [
    "##### Load data and process compostions into more readable format"
   ]
  },
  {
   "cell_type": "code",
   "execution_count": 2,
   "metadata": {},
   "outputs": [
    {
     "name": "stdout",
     "output_type": "stream",
     "text": [
      "This dataset has 100430 samples, 45 features\n"
     ]
    }
   ],
   "source": [
    "path = 'CAMD/scratches/JCAP data/'\n",
    "jcap_pickle = 'jcap_optical_encoding.pickle'\n",
    "\n",
    "jcap_df = pd.read_pickle(jcap_pickle)\n",
    "print('This dataset has {} samples, {} features'.format(jcap_df.shape[0], jcap_df.shape[1]))"
   ]
  },
  {
   "cell_type": "code",
   "execution_count": 3,
   "metadata": {},
   "outputs": [],
   "source": [
    "# process the compositions so they are not sparsed representation\n",
    "# There are two columns about composition. One is the full composition in dictionary format (e.g. {'Bi': 0.95, 'Mn': 0.05}).\n",
    "# The other is the element combination in tuples, sorted alphabetically. \n",
    "compositions = []\n",
    "for index, row in jcap_df.iterrows():\n",
    "    composition = {elem: round(ratio,3) for elem, ratio in zip(row['Fe':'Rb'].index, row['Fe':'Rb']) if ratio != 0} \n",
    "    compositions.append(composition)\n",
    "    \n",
    "processed_jcap_df = jcap_df[['bandgap']].copy()\n",
    "processed_jcap_df['full_composition'] = compositions\n",
    "\n",
    "elem_combo_sorted = [tuple(sorted(comp.keys())) for comp in compositions]\n",
    "processed_jcap_df['elem_combo'] = elem_combo_sorted\n",
    "\n",
    "# get the binary and ternary compound\n",
    "selected_jcap_df = processed_jcap_df[(processed_jcap_df.elem_combo.map(len)==2)|(processed_jcap_df.elem_combo.map(len)==3)]"
   ]
  },
  {
   "cell_type": "code",
   "execution_count": 4,
   "metadata": {},
   "outputs": [
    {
     "data": {
      "text/html": [
       "<div>\n",
       "<style scoped>\n",
       "    .dataframe tbody tr th:only-of-type {\n",
       "        vertical-align: middle;\n",
       "    }\n",
       "\n",
       "    .dataframe tbody tr th {\n",
       "        vertical-align: top;\n",
       "    }\n",
       "\n",
       "    .dataframe thead th {\n",
       "        text-align: right;\n",
       "    }\n",
       "</style>\n",
       "<table border=\"1\" class=\"dataframe\">\n",
       "  <thead>\n",
       "    <tr style=\"text-align: right;\">\n",
       "      <th></th>\n",
       "      <th>bandgap</th>\n",
       "      <th>full_composition</th>\n",
       "      <th>elem_combo</th>\n",
       "    </tr>\n",
       "    <tr>\n",
       "      <th>comp_id</th>\n",
       "      <th></th>\n",
       "      <th></th>\n",
       "      <th></th>\n",
       "    </tr>\n",
       "  </thead>\n",
       "  <tbody>\n",
       "    <tr>\n",
       "      <th>1</th>\n",
       "      <td>1.742198</td>\n",
       "      <td>{'Bi': 0.95, 'Mn': 0.05}</td>\n",
       "      <td>(Bi, Mn)</td>\n",
       "    </tr>\n",
       "    <tr>\n",
       "      <th>2</th>\n",
       "      <td>1.771895</td>\n",
       "      <td>{'Fe': 0.05, 'Bi': 0.95}</td>\n",
       "      <td>(Bi, Fe)</td>\n",
       "    </tr>\n",
       "    <tr>\n",
       "      <th>3</th>\n",
       "      <td>1.771431</td>\n",
       "      <td>{'Bi': 0.9, 'Mn': 0.1}</td>\n",
       "      <td>(Bi, Mn)</td>\n",
       "    </tr>\n",
       "  </tbody>\n",
       "</table>\n",
       "</div>"
      ],
      "text/plain": [
       "          bandgap          full_composition elem_combo\n",
       "comp_id                                               \n",
       "1        1.742198  {'Bi': 0.95, 'Mn': 0.05}   (Bi, Mn)\n",
       "2        1.771895  {'Fe': 0.05, 'Bi': 0.95}   (Bi, Fe)\n",
       "3        1.771431    {'Bi': 0.9, 'Mn': 0.1}   (Bi, Mn)"
      ]
     },
     "execution_count": 4,
     "metadata": {},
     "output_type": "execute_result"
    }
   ],
   "source": [
    "selected_jcap_df.head(3)"
   ]
  },
  {
   "cell_type": "code",
   "execution_count": null,
   "metadata": {},
   "outputs": [],
   "source": [
    "selected_jcap_df.shape"
   ]
  },
  {
   "cell_type": "markdown",
   "metadata": {},
   "source": [
    "##### Pull MP oxide data"
   ]
  },
  {
   "cell_type": "code",
   "execution_count": null,
   "metadata": {},
   "outputs": [],
   "source": [
    "# Get all the combinations and a list of their compositions\n",
    "from collections import defaultdict\n",
    "\n",
    "combinations = defaultdict(list)\n",
    "for index, row in selected_jcap_df.iterrows():\n",
    "    combinations[row['elem_combo']].append(row['full_composition'])"
   ]
  },
  {
   "cell_type": "code",
   "execution_count": null,
   "metadata": {},
   "outputs": [],
   "source": [
    "from pymatgen import MPRester, Composition\n",
    "from pymatgen.analysis.phase_diagram import GrandPotentialPhaseDiagram, PDPlotter\n",
    "\n",
    "MP_mu_O = -4.29\n",
    "mpr = MPRester(\"68rWEneaZFyIaKh15uKr\")\n",
    "\n",
    "stable_structure_by_compositions = {}\n",
    "for elem_combo, full_compositions in tqdm(combinations.items()):\n",
    "    entries = mpr.get_entries_in_chemsys(list(elem_combo) + ['O'])\n",
    "    gppd = GrandPotentialPhaseDiagram(entries, {\"O\": MP_mu_O})\n",
    "#     pdplotter = PDPlotter(gppd)\n",
    "    for composition in full_compositions:\n",
    "        entries = gppd.all_entries\n",
    "        ehulls = [gppd.get_form_energy_per_atom(entry) for entry in entries]\n",
    "        stable_structure_by_compositions[tuple(composition.items())] = [entry.original_comp for entry, e_hull in zip(entries, ehulls) if e_hull<0.2]\n",
    "\n",
    "#         decomp = gppd.get_decomposition(Composition(composition))\n",
    "#         stable_structure_by_compositions[composition] = [entry.original_comp for entry, frac in decomp.items()] \n",
    "#  plt = pdplotter.get_plot()"
   ]
  },
  {
   "cell_type": "code",
   "execution_count": null,
   "metadata": {},
   "outputs": [],
   "source": [
    "# import pickle\n",
    "# pickle.dump(stable_structure_by_compositions, open('stable_structure_by_compositions.pkl', 'wb'))"
   ]
  },
  {
   "cell_type": "markdown",
   "metadata": {},
   "source": [
    "##### CAMD submit"
   ]
  },
  {
   "cell_type": "code",
   "execution_count": 30,
   "metadata": {},
   "outputs": [],
   "source": [
    "# Helper script taken from \n",
    "# https://github.awsinternal.tri.global/materials/camd_api/blob/master/scripts/submit_LaFeAs_class.py\n",
    "\n",
    "import argparse\n",
    "from camd_apigw.s3_utils import submit_chemsys, CAMD_SYNC_S3_BUCKET, \\\n",
    "    CAMD_DEFAULT_CAMPAIGN\n",
    "import itertools\n",
    "from tqdm import tqdm\n",
    "\n",
    "\n",
    "argparser = argparse.ArgumentParser()\n",
    "argparser.add_argument(\"--campaign\", \"-r\", default=CAMD_DEFAULT_CAMPAIGN,\n",
    "                       help=\"Type of run, e. g. proto-dft or oqmd-atf\")\n",
    "argparser.add_argument(\"--bucket\", \"-b\", default=CAMD_SYNC_S3_BUCKET,\n",
    "                       help=\"Bucket for submission, e.g. camd-runs or camd-test\")\n",
    "\n",
    "def get_possible_chemsyses(combinations):\n",
    "    \"\"\"Function to get all of the oxide to test\"\"\"\n",
    "    return ['-'.join(combination) +'-O' for combination in combinations]"
   ]
  },
  {
   "cell_type": "code",
   "execution_count": 38,
   "metadata": {},
   "outputs": [],
   "source": [
    "# all the unique composition combination from JCAP data (sorted alphabetically and not duplicated)\n",
    "elem_combo_set = set(list(selected_jcap_df['elem_combo'])) \n",
    "combinations_of_interest = sorted(list(elem_combo_set), reverse=True) \n",
    "\n",
    "# CAMD is last in, first out, so we will sort the list above by length\n",
    "sorted_interest = sorted(combinations_of_interest, key=len, reverse=True)[-10:]\n",
    "\n",
    "# args = argparser.parse_args()\n",
    "# for chemsys in tqdm(get_possible_chemsyses(sorted_interest)):\n",
    "#     submit_chemsys(chemsys, bucket_name=args.bucket,\n",
    "#                    campaign=args.campaign)"
   ]
  },
  {
   "cell_type": "code",
   "execution_count": 39,
   "metadata": {},
   "outputs": [
    {
     "data": {
      "text/plain": [
       "['Ba-Ca-O',\n",
       " 'Al-V-O',\n",
       " 'Al-Sb-O',\n",
       " 'Al-Pb-O',\n",
       " 'Al-Mn-O',\n",
       " 'Al-Bi-O',\n",
       " 'Ag-Sm-O',\n",
       " 'Ag-Mn-O',\n",
       " 'Ag-Er-O',\n",
       " 'Ag-Bi-O']"
      ]
     },
     "execution_count": 39,
     "metadata": {},
     "output_type": "execute_result"
    }
   ],
   "source": [
    "get_possible_chemsyses(sorted_interest)"
   ]
  },
  {
   "cell_type": "code",
   "execution_count": 40,
   "metadata": {},
   "outputs": [
    {
     "name": "stderr",
     "output_type": "stream",
     "text": [
      " 10%|█         | 1/10 [00:01<00:13,  1.45s/it]"
     ]
    },
    {
     "name": "stdout",
     "output_type": "stream",
     "text": [
      "{'state': 'NOT-STARTED', 'data': {'last_submitted': '2020-06-05T17:41:59.784892'}}\n"
     ]
    },
    {
     "name": "stderr",
     "output_type": "stream",
     "text": [
      "\r",
      " 20%|██        | 2/10 [00:02<00:11,  1.43s/it]"
     ]
    },
    {
     "name": "stdout",
     "output_type": "stream",
     "text": [
      "{'state': 'NOT-STARTED', 'data': {'last_submitted': '2020-06-05T17:42:00.837149'}}\n"
     ]
    },
    {
     "name": "stderr",
     "output_type": "stream",
     "text": [
      "\r",
      " 30%|███       | 3/10 [00:04<00:09,  1.41s/it]"
     ]
    },
    {
     "name": "stdout",
     "output_type": "stream",
     "text": [
      "{'state': 'NOT-STARTED', 'data': {'last_submitted': '2020-06-05T17:42:01.701499'}}\n"
     ]
    },
    {
     "name": "stderr",
     "output_type": "stream",
     "text": [
      "\r",
      " 40%|████      | 4/10 [00:05<00:08,  1.40s/it]"
     ]
    },
    {
     "name": "stdout",
     "output_type": "stream",
     "text": [
      "{'state': 'NOT-STARTED', 'data': {'last_submitted': '2020-06-05T17:42:02.578854'}}\n"
     ]
    },
    {
     "name": "stderr",
     "output_type": "stream",
     "text": [
      "\r",
      " 50%|█████     | 5/10 [00:06<00:06,  1.39s/it]"
     ]
    },
    {
     "name": "stdout",
     "output_type": "stream",
     "text": [
      "{'state': 'NOT-STARTED', 'data': {'last_submitted': '2020-06-05T17:42:03.436719'}}\n"
     ]
    },
    {
     "name": "stderr",
     "output_type": "stream",
     "text": [
      "\r",
      " 60%|██████    | 6/10 [00:08<00:05,  1.37s/it]"
     ]
    },
    {
     "name": "stdout",
     "output_type": "stream",
     "text": [
      "{'state': 'NOT-STARTED', 'data': {'last_submitted': '2020-06-05T17:42:04.319871'}}\n"
     ]
    },
    {
     "name": "stderr",
     "output_type": "stream",
     "text": [
      "\r",
      " 70%|███████   | 7/10 [00:09<00:04,  1.36s/it]"
     ]
    },
    {
     "name": "stdout",
     "output_type": "stream",
     "text": [
      "{'state': 'NOT-STARTED', 'data': {'last_submitted': '2020-06-05T17:42:05.179194'}}\n"
     ]
    },
    {
     "name": "stderr",
     "output_type": "stream",
     "text": [
      "\r",
      " 80%|████████  | 8/10 [00:11<00:02,  1.40s/it]"
     ]
    },
    {
     "name": "stdout",
     "output_type": "stream",
     "text": [
      "{'state': 'NOT-STARTED', 'data': {'last_submitted': '2020-06-05T17:42:06.059521'}}\n"
     ]
    },
    {
     "name": "stderr",
     "output_type": "stream",
     "text": [
      "\r",
      " 90%|█████████ | 9/10 [00:12<00:01,  1.37s/it]"
     ]
    },
    {
     "name": "stdout",
     "output_type": "stream",
     "text": [
      "{'state': 'NOT-STARTED', 'data': {'last_submitted': '2020-06-05T17:42:06.898448'}}\n"
     ]
    },
    {
     "name": "stderr",
     "output_type": "stream",
     "text": [
      "100%|██████████| 10/10 [00:13<00:00,  1.36s/it]"
     ]
    },
    {
     "name": "stdout",
     "output_type": "stream",
     "text": [
      "{'state': 'IN-PROGRESS'}\n"
     ]
    },
    {
     "name": "stderr",
     "output_type": "stream",
     "text": [
      "\n"
     ]
    }
   ],
   "source": [
    "from camd_apigw import s3_utils\n",
    "\n",
    "for chemsys in tqdm(get_possible_chemsyses(sorted_interest)):\n",
    "    print(s3_utils.get_run_status(chemsys))"
   ]
  },
  {
   "cell_type": "code",
   "execution_count": null,
   "metadata": {},
   "outputs": [],
   "source": []
  }
 ],
 "metadata": {
  "kernelspec": {
   "display_name": "Python 3",
   "language": "python",
   "name": "python3"
  },
  "language_info": {
   "codemirror_mode": {
    "name": "ipython",
    "version": 3
   },
   "file_extension": ".py",
   "mimetype": "text/x-python",
   "name": "python",
   "nbconvert_exporter": "python",
   "pygments_lexer": "ipython3",
   "version": "3.7.0"
  }
 },
 "nbformat": 4,
 "nbformat_minor": 4
}
