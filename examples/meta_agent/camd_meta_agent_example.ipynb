{
 "cells": [
  {
   "cell_type": "markdown",
   "metadata": {},
   "source": [
    "## CAMD Meta agent example"
   ]
  },
  {
   "cell_type": "code",
   "execution_count": 1,
   "metadata": {},
   "outputs": [],
   "source": [
    "from camd.campaigns.meta_agent import MetaAgentCampaign, \\\n",
    "    StabilityCampaignAnalyzer\n",
    "from camd.analysis import StabilityAnalyzer\n",
    "from camd.utils.data import load_dataframe, partition_intercomp, \\\n",
    "    get_oqmd_data_by_chemsys\n",
    "from camd.experiment.agent_simulation import LocalAgentSimulation\n",
    "from camd.agent.base import RandomAgent\n",
    "from taburu.table import ParameterTable\n",
    "from camd import CAMD_S3_BUCKET\n",
    "# Note that env variable must be set\n",
    "if CAMD_S3_BUCKET is None:\n",
    "    raise ValueError(\"Set CAMD_S3_BUCKET to enable notebook\")"
   ]
  },
  {
   "cell_type": "markdown",
   "metadata": {},
   "source": [
    "### Define the agents and agent_pool"
   ]
  },
  {
   "cell_type": "code",
   "execution_count": 3,
   "metadata": {},
   "outputs": [],
   "source": [
    "# Define agent parameters\n",
    "agent_params = [\n",
    "    {\n",
    "        \"@class\": [\"camd.agent.base.RandomAgent\"],\n",
    "        \"n_query\": [2, 3],\n",
    "    },\n",
    "]"
   ]
  },
  {
   "cell_type": "markdown",
   "metadata": {},
   "source": [
    "### Construct the dataframe using Fe-O data"
   ]
  },
  {
   "cell_type": "code",
   "execution_count": 2,
   "metadata": {},
   "outputs": [],
   "source": [
    "data = get_oqmd_data_by_chemsys(\"Fe-O\", drop_duplicates=True)\n",
    "candidate_data, seed_data = partition_intercomp(data)"
   ]
  },
  {
   "cell_type": "markdown",
   "metadata": {},
   "source": [
    "### Construct core campaign objects"
   ]
  },
  {
   "cell_type": "code",
   "execution_count": 4,
   "metadata": {},
   "outputs": [
    {
     "name": "stderr",
     "output_type": "stream",
     "text": [
      "100%|██████████| 2/2 [00:00<00:00, 5966.29it/s]\n"
     ]
    }
   ],
   "source": [
    "experiment = LocalAgentSimulation(\n",
    "    atf_candidate_data=candidate_data, seed_data=seed_data,\n",
    "    analyzer=StabilityAnalyzer(), iterations=10,\n",
    ")\n",
    "analyzer = StabilityCampaignAnalyzer(\n",
    "    checkpoint_indices=[2, 5, 10])\n",
    "agent_pool = ParameterTable(agent_params)"
   ]
  },
  {
   "cell_type": "markdown",
   "metadata": {},
   "source": [
    "### Reserve campaign in S3"
   ]
  },
  {
   "cell_type": "code",
   "execution_count": 5,
   "metadata": {},
   "outputs": [],
   "source": [
    "MetaAgentCampaign.reserve(\n",
    "    name=\"test_meta_agent_python\", experiment=experiment,\n",
    "    agent_pool=agent_pool, analyzer=analyzer\n",
    ")"
   ]
  },
  {
   "cell_type": "markdown",
   "metadata": {},
   "source": [
    "### Run via Python API"
   ]
  },
  {
   "cell_type": "code",
   "execution_count": 6,
   "metadata": {},
   "outputs": [
    {
     "name": "stdout",
     "output_type": "stream",
     "text": [
      "MetaAgentCampaign initialization state: Agent RandomAgent hypothesizing\n",
      "MetaAgentCampaign 0 state: Running experiments\n",
      "Iteration: 0\n",
      "MetaAgentCampaign 0 state: Getting new results\n",
      "Campaign initialization state: Agent RandomAgent hypothesizing\n",
      "Campaign 0 state: Running experiments\n",
      "Iteration: 0\n",
      "Campaign 0 state: Getting new results\n",
      "Campaign 0 state: Analyzing results\n",
      "Campaign 0 state: Agent RandomAgent hypothesizing\n",
      "Campaign 0 state: Running experiments\n",
      "  Waiting for next round ...\n",
      "Iteration: 1\n",
      "Campaign 1 state: Getting new results\n",
      "Campaign 1 state: Analyzing results\n"
     ]
    },
    {
     "name": "stderr",
     "output_type": "stream",
     "text": [
      "/Users/josephmontoya/miniconda3/envs/camd/lib/python3.6/site-packages/pandas/core/frame.py:6692: FutureWarning: Sorting because non-concatenation axis is not aligned. A future version\n",
      "of pandas will change to not sort by default.\n",
      "\n",
      "To accept the future behavior, pass 'sort=False'.\n",
      "\n",
      "To retain the current behavior and silence the warning, pass 'sort=True'.\n",
      "\n",
      "  sort=sort)\n"
     ]
    },
    {
     "name": "stdout",
     "output_type": "stream",
     "text": [
      "Campaign 1 state: Agent RandomAgent hypothesizing\n",
      "Campaign 1 state: Running experiments\n",
      "  Waiting for next round ...\n",
      "Iteration: 2\n",
      "Campaign 2 state: Getting new results\n",
      "Campaign 2 state: Analyzing results\n",
      "Campaign 2 state: Agent RandomAgent hypothesizing\n",
      "Campaign 2 state: Running experiments\n",
      "  Waiting for next round ...\n",
      "Iteration: 3\n",
      "Campaign 3 state: Getting new results\n",
      "Campaign 3 state: Analyzing results\n",
      "Campaign 3 state: Agent RandomAgent hypothesizing\n",
      "Campaign 3 state: Running experiments\n",
      "  Waiting for next round ...\n",
      "Iteration: 4\n",
      "Campaign 4 state: Getting new results\n",
      "Campaign 4 state: Analyzing results\n",
      "Campaign 4 state: Agent RandomAgent hypothesizing\n",
      "Campaign 4 state: Running experiments\n",
      "  Waiting for next round ...\n",
      "Iteration: 5\n",
      "Campaign 5 state: Getting new results\n",
      "Campaign 5 state: Analyzing results\n",
      "Campaign 5 state: Agent RandomAgent hypothesizing\n",
      "Campaign 5 state: Running experiments\n",
      "  Waiting for next round ...\n",
      "Iteration: 6\n",
      "Campaign 6 state: Getting new results\n",
      "Campaign 6 state: Analyzing results\n",
      "Campaign 6 state: Agent RandomAgent hypothesizing\n",
      "Campaign 6 state: Running experiments\n",
      "  Waiting for next round ...\n",
      "Iteration: 7\n",
      "Campaign 7 state: Getting new results\n",
      "Campaign 7 state: Analyzing results\n",
      "Campaign 7 state: Agent RandomAgent hypothesizing\n",
      "Campaign 7 state: Running experiments\n",
      "  Waiting for next round ...\n",
      "Iteration: 8\n",
      "Campaign 8 state: Getting new results\n",
      "Campaign 8 state: Analyzing results\n",
      "Campaign 8 state: Agent RandomAgent hypothesizing\n",
      "Campaign 8 state: Running experiments\n",
      "  Waiting for next round ...\n",
      "Iteration: 9\n",
      "Campaign 9 state: Getting new results\n",
      "Campaign 9 state: Analyzing results\n",
      "Campaign 9 state: Agent RandomAgent hypothesizing\n",
      "Campaign 9 state: Running experiments\n",
      "  Waiting for next round ...\n",
      "Iteration: 10\n",
      "Campaign 10 state: Getting new results\n",
      "Campaign 10 state: Analyzing results\n",
      "Campaign 10 state: Agent RandomAgent hypothesizing\n",
      "Campaign 10 state: Running experiments\n",
      "  Waiting for next round ...\n",
      "Finalizing campaign.\n"
     ]
    },
    {
     "name": "stderr",
     "output_type": "stream",
     "text": [
      "/Users/josephmontoya/PycharmProjects/camd/camd_public/camd/analysis.py:365: UserWarning: No prior data, prior phase diagram cannot be constructed\n",
      "  warnings.warn(\"No prior data, prior phase diagram cannot be constructed\")\n"
     ]
    },
    {
     "name": "stdout",
     "output_type": "stream",
     "text": [
      "MetaAgentCampaign 0 state: Analyzing results\n",
      "MetaAgentCampaign 0 state: Agent RandomAgent hypothesizing\n",
      "MetaAgentCampaign 0 state: Running experiments\n",
      "  Waiting for next round ...\n",
      "Iteration: 1\n",
      "MetaAgentCampaign 1 state: Getting new results\n",
      "Campaign initialization state: Agent RandomAgent hypothesizing\n",
      "Campaign 0 state: Running experiments\n",
      "Iteration: 0\n",
      "Campaign 0 state: Getting new results\n",
      "Campaign 0 state: Analyzing results\n",
      "Campaign 0 state: Agent RandomAgent hypothesizing\n",
      "Campaign 0 state: Running experiments\n",
      "  Waiting for next round ...\n",
      "Iteration: 1\n",
      "Campaign 1 state: Getting new results\n",
      "Campaign 1 state: Analyzing results\n",
      "Campaign 1 state: Agent RandomAgent hypothesizing\n",
      "Campaign 1 state: Running experiments\n",
      "  Waiting for next round ...\n",
      "Iteration: 2\n",
      "Campaign 2 state: Getting new results\n",
      "Campaign 2 state: Analyzing results\n",
      "Campaign 2 state: Agent RandomAgent hypothesizing\n",
      "Campaign 2 state: Running experiments\n",
      "  Waiting for next round ...\n",
      "Iteration: 3\n",
      "Campaign 3 state: Getting new results\n",
      "Campaign 3 state: Analyzing results\n",
      "Campaign 3 state: Agent RandomAgent hypothesizing\n",
      "Campaign 3 state: Running experiments\n",
      "  Waiting for next round ...\n",
      "Iteration: 4\n",
      "Campaign 4 state: Getting new results\n",
      "Campaign 4 state: Analyzing results\n",
      "Campaign 4 state: Agent RandomAgent hypothesizing\n",
      "Campaign 4 state: Running experiments\n",
      "  Waiting for next round ...\n",
      "Iteration: 5\n",
      "Campaign 5 state: Getting new results\n",
      "Campaign 5 state: Analyzing results\n",
      "Campaign 5 state: Agent RandomAgent hypothesizing\n",
      "Campaign 5 state: Running experiments\n",
      "  Waiting for next round ...\n",
      "Iteration: 6\n",
      "Campaign 6 state: Getting new results\n",
      "Campaign 6 state: Analyzing results\n",
      "Campaign 6 state: Agent RandomAgent hypothesizing\n",
      "Campaign 6 state: Running experiments\n",
      "  Waiting for next round ...\n",
      "Iteration: 7\n",
      "Campaign 7 state: Getting new results\n",
      "Campaign 7 state: Analyzing results\n",
      "Campaign 7 state: Agent RandomAgent hypothesizing\n",
      "Campaign 7 state: Running experiments\n",
      "  Waiting for next round ...\n",
      "Iteration: 8\n",
      "Campaign 8 state: Getting new results\n",
      "Campaign 8 state: Analyzing results\n",
      "Campaign 8 state: Agent RandomAgent hypothesizing\n",
      "Campaign 8 state: Running experiments\n",
      "  Waiting for next round ...\n",
      "Iteration: 9\n",
      "Campaign 9 state: Getting new results\n",
      "Campaign 9 state: Analyzing results\n",
      "Campaign 9 state: Agent RandomAgent hypothesizing\n",
      "Campaign 9 state: Running experiments\n",
      "  Waiting for next round ...\n",
      "Iteration: 10\n",
      "Campaign 10 state: Getting new results\n",
      "Campaign 10 state: Analyzing results\n",
      "Campaign 10 state: Agent RandomAgent hypothesizing\n",
      "Campaign 10 state: Running experiments\n",
      "  Waiting for next round ...\n",
      "Finalizing campaign.\n",
      "MetaAgentCampaign 1 state: Analyzing results\n",
      "Candidate data exhausted.  Stopping loop.\n",
      "Finalizing campaign.\n"
     ]
    },
    {
     "data": {
      "image/png": "[encoded data removed]",
      "text/plain": [
       "<Figure size 720x360 with 2 Axes>"
      ]
     },
     "metadata": {
      "needs_background": "light"
     },
     "output_type": "display_data"
    }
   ],
   "source": [
    "import os\n",
    "os.mkdir('python')\n",
    "os.chdir('python')\n",
    "meta_agent = RandomAgent(n_query=1)\n",
    "campaign = MetaAgentCampaign.from_reserved_name(\n",
    "    \"test_meta_agent_python\", meta_agent=meta_agent)\n",
    "campaign.autorun()\n",
    "os.chdir('..')"
   ]
  },
  {
   "cell_type": "markdown",
   "metadata": {},
   "source": [
    "### Run via CLI"
   ]
  },
  {
   "cell_type": "code",
   "execution_count": 8,
   "metadata": {},
   "outputs": [],
   "source": [
    "def create_test(name):\n",
    "    data = get_oqmd_data_by_chemsys(\"Fe-O\", drop_duplicates=True)\n",
    "    candidate_data, seed_data = partition_intercomp(data)\n",
    "    experiment = LocalAgentSimulation(\n",
    "        atf_candidate_data=candidate_data, seed_data=seed_data,\n",
    "        analyzer=StabilityAnalyzer(), iterations=10,\n",
    "    )\n",
    "    analyzer = StabilityCampaignAnalyzer(\n",
    "        checkpoint_indices=[2, 5, 10])\n",
    "    agent_pool = ParameterTable(agent_params)\n",
    "    MetaAgentCampaign.reserve(\n",
    "        name=name, experiment=experiment,\n",
    "        agent_pool=agent_pool, analyzer=analyzer\n",
    "    )"
   ]
  },
  {
   "cell_type": "code",
   "execution_count": null,
   "metadata": {},
   "outputs": [],
   "source": [
    "create_test(\"test_meta_agent_cli\")"
   ]
  },
  {
   "cell_type": "code",
   "execution_count": null,
   "metadata": {},
   "outputs": [],
   "source": [
    "# Run s3 backed campaign\n",
    "!rm -rf test && \\\n",
    "mkdir test && \\\n",
    "cd test && \\\n",
    "camd_runner meta_agent/test_meta_agent_cli"
   ]
  },
  {
   "cell_type": "markdown",
   "metadata": {},
   "source": [
    "Summary figure\n",
    "![title](test/campaign_summary.png)"
   ]
  },
  {
   "cell_type": "markdown",
   "metadata": {},
   "source": [
    "### Run on AWS Batch"
   ]
  },
  {
   "cell_type": "code",
   "execution_count": 9,
   "metadata": {},
   "outputs": [
    {
     "name": "stderr",
     "output_type": "stream",
     "text": [
      "100%|██████████| 2/2 [00:00<00:00, 3545.48it/s]\n"
     ]
    }
   ],
   "source": [
    "create_test(\"test_meta_agent_aws_batch\")"
   ]
  },
  {
   "cell_type": "code",
   "execution_count": 10,
   "metadata": {},
   "outputs": [],
   "source": [
    "submit_output = \\\n",
    "!aws batch submit-job \\\n",
    "--job-name test_meta_agent_aws_batch \\\n",
    "--job-queue camd_dev \\\n",
    "--job-definition camd_dev_batch \\\n",
    "--parameters name=meta_agent/test_meta_agent_aws_batch"
   ]
  },
  {
   "cell_type": "code",
   "execution_count": 12,
   "metadata": {},
   "outputs": [
    {
     "name": "stdout",
     "output_type": "stream",
     "text": [
      "Job status is RUNNABLE\n",
      "Job status is RUNNABLE\n",
      "Job status is RUNNABLE\n",
      "Job status is STARTING\n"
     ]
    }
   ],
   "source": [
    "import json, time\n",
    "job_data = json.loads(''.join(submit_output))\n",
    "job_id = job_data['jobId']\n",
    "while True:\n",
    "    describe_output = !aws batch describe-jobs --jobs $job_id\n",
    "    job_data = json.loads(''.join(describe_output))\n",
    "    job_status = job_data['jobs'][0]['status']\n",
    "    print(\"Job status is {}\".format(job_status))\n",
    "    if job_status not in ['PENDING', 'RUNNABLE', 'RUNNING']:\n",
    "        break\n",
    "    time.sleep(20)"
   ]
  },
  {
   "cell_type": "code",
   "execution_count": null,
   "metadata": {},
   "outputs": [],
   "source": []
  }
 ],
 "metadata": {
  "kernelspec": {
   "display_name": "Python 3",
   "language": "python",
   "name": "python3"
  },
  "language_info": {
   "codemirror_mode": {
    "name": "ipython",
    "version": 3
   },
   "file_extension": ".py",
   "mimetype": "text/x-python",
   "name": "python",
   "nbconvert_exporter": "python",
   "pygments_lexer": "ipython3",
   "version": "3.7.7"
  }
 },
 "nbformat": 4,
 "nbformat_minor": 2
}
